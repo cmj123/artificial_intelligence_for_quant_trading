{
 "cells": [
  {
   "cell_type": "markdown",
   "metadata": {},
   "source": [
    "# Statistical Test - Returns"
   ]
  },
  {
   "cell_type": "code",
   "execution_count": 1,
   "metadata": {},
   "outputs": [
    {
     "name": "stdout",
     "output_type": "stream",
     "text": [
      "date\n",
      "2014-11-30    0.011636\n",
      "2014-12-31    0.021954\n",
      "2015-01-31    0.040887\n",
      "2015-02-28   -0.002511\n",
      "2015-03-31    0.017259\n",
      "2015-04-30    0.041697\n",
      "2015-05-31    0.033973\n",
      "2015-06-30    0.011809\n",
      "2015-07-31   -0.034297\n",
      "2015-08-31   -0.018000\n",
      "2015-09-30    0.042449\n",
      "2015-10-31    0.060487\n",
      "2015-11-30    0.004425\n",
      "2015-12-31   -0.011128\n",
      "2016-01-31    0.039041\n",
      "2016-02-29   -0.018535\n",
      "2016-03-31    0.051492\n",
      "2016-04-30    0.008987\n",
      "2016-05-31    0.040301\n",
      "2016-06-30   -0.070148\n",
      "2016-07-31   -0.037446\n",
      "2016-08-31   -0.057651\n",
      "2016-09-30    0.052808\n",
      "2016-10-31    0.048136\n",
      "2016-11-30    0.019070\n",
      "2016-12-31    0.023694\n",
      "2017-01-31   -0.022749\n",
      "2017-02-28   -0.077439\n",
      "2017-03-31    0.033248\n",
      "2017-04-30   -0.020916\n",
      "2017-05-31   -0.069554\n",
      "2017-06-30    0.003759\n",
      "Name: return, dtype: float64\n"
     ]
    },
    {
     "name": "stderr",
     "output_type": "stream",
     "text": [
      "/Users/esuabomdijemeni/anaconda3/lib/python3.7/site-packages/pandas/core/series.py:4141: FutureWarning: from_csv is deprecated. Please use read_csv(...) instead. Note that some of the default arguments are different, so please refer to the documentation for from_csv when changing your function calls\n",
      "  infer_datetime_format=infer_datetime_format)\n"
     ]
    }
   ],
   "source": [
    "# Import library, classes and functions \n",
    "import pandas as pd\n",
    "import numpy as np\n",
    "import scipy.stats as stats\n",
    "\n",
    "def analyze_returns(net_returns):\n",
    "    \"\"\"\n",
    "    Perform a t-test, with the null hypothesis beign that the mean return is zero.\n",
    "    \n",
    "    Parameters\n",
    "    ------------\n",
    "    net_returns: Pandas Series\n",
    "        A Pandas Series for each date\n",
    "        \n",
    "    Returns\n",
    "    -----------\n",
    "    t_value\n",
    "        t-statistics from t-test\n",
    "    p_value\n",
    "        Corresponding p-value\n",
    "    \"\"\"\n",
    "    \n",
    "    null_hypothesis = 0.0\n",
    "    t_value, p _value = stats.ttest_1samp(net_returns, null_hypothesis)\n",
    "    return t_value, p_value\n",
    "    \n",
    "\n",
    "def test_run(filename='net_returns.csv'):\n",
    "    \"\"\"Test run analyz_returns() with net strategy returns from a file\"\"\"\n",
    "    net_returns = pd.Series.from_csv(filename, header=0)\n",
    "    print(net_returns)\n",
    "    t, p = analyze_returns(net_returns)\n",
    "    print(\"t-statistic: {:.3f}\\np-value: {:.6f}\".format(t, p))\n",
    "\n",
    "if __name__ == '__main__':\n",
    "    test_run()"
   ]
  },
  {
   "cell_type": "code",
   "execution_count": 5,
   "metadata": {},
   "outputs": [],
   "source": [
    "net_returns = pd.Series.from_csv('net_returns.csv', header=0)\n",
    "t, p = stats.ttest_1samp(net_returns, 0.0)"
   ]
  },
  {
   "cell_type": "code",
   "execution_count": 6,
   "metadata": {},
   "outputs": [
    {
     "data": {
      "text/plain": [
       "0.7596352254139491"
      ]
     },
     "execution_count": 6,
     "metadata": {},
     "output_type": "execute_result"
    }
   ],
   "source": [
    "t"
   ]
  },
  {
   "cell_type": "code",
   "execution_count": 7,
   "metadata": {},
   "outputs": [
    {
     "data": {
      "text/plain": [
       "0.4532110164092471"
      ]
     },
     "execution_count": 7,
     "metadata": {},
     "output_type": "execute_result"
    }
   ],
   "source": [
    "p"
   ]
  },
  {
   "cell_type": "code",
   "execution_count": null,
   "metadata": {},
   "outputs": [],
   "source": []
  }
 ],
 "metadata": {
  "kernelspec": {
   "display_name": "Python 3",
   "language": "python",
   "name": "python3"
  },
  "language_info": {
   "codemirror_mode": {
    "name": "ipython",
    "version": 3
   },
   "file_extension": ".py",
   "mimetype": "text/x-python",
   "name": "python",
   "nbconvert_exporter": "python",
   "pygments_lexer": "ipython3",
   "version": "3.7.3"
  }
 },
 "nbformat": 4,
 "nbformat_minor": 2
}
